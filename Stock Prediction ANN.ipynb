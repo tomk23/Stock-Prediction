{
 "cells": [
  {
   "cell_type": "code",
   "execution_count": 1,
   "metadata": {},
   "outputs": [
    {
     "name": "stdout",
     "output_type": "stream",
     "text": [
      "['fundamentals.csv', 'prices-split-adjusted.csv', 'prices.csv', 'securities.csv']\n"
     ]
    }
   ],
   "source": [
    "import os\n",
    "import pandas as pd\n",
    "import numpy as np\n",
    "import matplotlib.pyplot as plt\n",
    "from scipy import stats\n",
    "from sklearn import metrics\n",
    "from sklearn.model_selection import train_test_split,cross_val_score, cross_val_predict\n",
    "from sklearn import svm,preprocessing\n",
    "from sklearn.preprocessing import StandardScaler\n",
    "from keras.constraints import maxnorm\n",
    "from keras.optimizers import RMSprop\n",
    "\n",
    "import time\n",
    "from datetime import datetime\n",
    "\n",
    "import os\n",
    "print(os.listdir(\"./input\"))"
   ]
  },
  {
   "cell_type": "code",
   "execution_count": 2,
   "metadata": {},
   "outputs": [],
   "source": [
    "price_df = pd.read_csv(r'./input/prices-split-adjusted.csv')\n",
    "securities_df = pd.read_csv(r'./input/securities.csv')\n",
    "fundamentals_df = pd.read_csv(r'./input/fundamentals.csv')"
   ]
  },
  {
   "cell_type": "code",
   "execution_count": 3,
   "metadata": {},
   "outputs": [
    {
     "data": {
      "text/html": [
       "<div>\n",
       "<style scoped>\n",
       "    .dataframe tbody tr th:only-of-type {\n",
       "        vertical-align: middle;\n",
       "    }\n",
       "\n",
       "    .dataframe tbody tr th {\n",
       "        vertical-align: top;\n",
       "    }\n",
       "\n",
       "    .dataframe thead th {\n",
       "        text-align: right;\n",
       "    }\n",
       "</style>\n",
       "<table border=\"1\" class=\"dataframe\">\n",
       "  <thead>\n",
       "    <tr style=\"text-align: right;\">\n",
       "      <th></th>\n",
       "      <th>date</th>\n",
       "      <th>symbol</th>\n",
       "      <th>open</th>\n",
       "      <th>close</th>\n",
       "      <th>low</th>\n",
       "      <th>high</th>\n",
       "      <th>volume</th>\n",
       "    </tr>\n",
       "  </thead>\n",
       "  <tbody>\n",
       "    <tr>\n",
       "      <th>0</th>\n",
       "      <td>2016-01-05</td>\n",
       "      <td>WLTW</td>\n",
       "      <td>123.430000</td>\n",
       "      <td>125.839996</td>\n",
       "      <td>122.309998</td>\n",
       "      <td>126.250000</td>\n",
       "      <td>2163600.0</td>\n",
       "    </tr>\n",
       "    <tr>\n",
       "      <th>1</th>\n",
       "      <td>2016-01-06</td>\n",
       "      <td>WLTW</td>\n",
       "      <td>125.239998</td>\n",
       "      <td>119.980003</td>\n",
       "      <td>119.940002</td>\n",
       "      <td>125.540001</td>\n",
       "      <td>2386400.0</td>\n",
       "    </tr>\n",
       "    <tr>\n",
       "      <th>2</th>\n",
       "      <td>2016-01-07</td>\n",
       "      <td>WLTW</td>\n",
       "      <td>116.379997</td>\n",
       "      <td>114.949997</td>\n",
       "      <td>114.930000</td>\n",
       "      <td>119.739998</td>\n",
       "      <td>2489500.0</td>\n",
       "    </tr>\n",
       "    <tr>\n",
       "      <th>3</th>\n",
       "      <td>2016-01-08</td>\n",
       "      <td>WLTW</td>\n",
       "      <td>115.480003</td>\n",
       "      <td>116.620003</td>\n",
       "      <td>113.500000</td>\n",
       "      <td>117.440002</td>\n",
       "      <td>2006300.0</td>\n",
       "    </tr>\n",
       "    <tr>\n",
       "      <th>4</th>\n",
       "      <td>2016-01-11</td>\n",
       "      <td>WLTW</td>\n",
       "      <td>117.010002</td>\n",
       "      <td>114.970001</td>\n",
       "      <td>114.089996</td>\n",
       "      <td>117.330002</td>\n",
       "      <td>1408600.0</td>\n",
       "    </tr>\n",
       "    <tr>\n",
       "      <th>...</th>\n",
       "      <td>...</td>\n",
       "      <td>...</td>\n",
       "      <td>...</td>\n",
       "      <td>...</td>\n",
       "      <td>...</td>\n",
       "      <td>...</td>\n",
       "      <td>...</td>\n",
       "    </tr>\n",
       "    <tr>\n",
       "      <th>851259</th>\n",
       "      <td>2016-12-30</td>\n",
       "      <td>ZBH</td>\n",
       "      <td>103.309998</td>\n",
       "      <td>103.199997</td>\n",
       "      <td>102.849998</td>\n",
       "      <td>103.930000</td>\n",
       "      <td>973800.0</td>\n",
       "    </tr>\n",
       "    <tr>\n",
       "      <th>851260</th>\n",
       "      <td>2016-12-30</td>\n",
       "      <td>ZION</td>\n",
       "      <td>43.070000</td>\n",
       "      <td>43.040001</td>\n",
       "      <td>42.689999</td>\n",
       "      <td>43.310001</td>\n",
       "      <td>1938100.0</td>\n",
       "    </tr>\n",
       "    <tr>\n",
       "      <th>851261</th>\n",
       "      <td>2016-12-30</td>\n",
       "      <td>ZTS</td>\n",
       "      <td>53.639999</td>\n",
       "      <td>53.529999</td>\n",
       "      <td>53.270000</td>\n",
       "      <td>53.740002</td>\n",
       "      <td>1701200.0</td>\n",
       "    </tr>\n",
       "    <tr>\n",
       "      <th>851262</th>\n",
       "      <td>2016-12-30</td>\n",
       "      <td>AIV</td>\n",
       "      <td>44.730000</td>\n",
       "      <td>45.450001</td>\n",
       "      <td>44.410000</td>\n",
       "      <td>45.590000</td>\n",
       "      <td>1380900.0</td>\n",
       "    </tr>\n",
       "    <tr>\n",
       "      <th>851263</th>\n",
       "      <td>2016-12-30</td>\n",
       "      <td>FTV</td>\n",
       "      <td>54.200001</td>\n",
       "      <td>53.630001</td>\n",
       "      <td>53.389999</td>\n",
       "      <td>54.480000</td>\n",
       "      <td>705100.0</td>\n",
       "    </tr>\n",
       "  </tbody>\n",
       "</table>\n",
       "<p>851264 rows × 7 columns</p>\n",
       "</div>"
      ],
      "text/plain": [
       "              date symbol        open       close         low        high  \\\n",
       "0       2016-01-05   WLTW  123.430000  125.839996  122.309998  126.250000   \n",
       "1       2016-01-06   WLTW  125.239998  119.980003  119.940002  125.540001   \n",
       "2       2016-01-07   WLTW  116.379997  114.949997  114.930000  119.739998   \n",
       "3       2016-01-08   WLTW  115.480003  116.620003  113.500000  117.440002   \n",
       "4       2016-01-11   WLTW  117.010002  114.970001  114.089996  117.330002   \n",
       "...            ...    ...         ...         ...         ...         ...   \n",
       "851259  2016-12-30    ZBH  103.309998  103.199997  102.849998  103.930000   \n",
       "851260  2016-12-30   ZION   43.070000   43.040001   42.689999   43.310001   \n",
       "851261  2016-12-30    ZTS   53.639999   53.529999   53.270000   53.740002   \n",
       "851262  2016-12-30    AIV   44.730000   45.450001   44.410000   45.590000   \n",
       "851263  2016-12-30    FTV   54.200001   53.630001   53.389999   54.480000   \n",
       "\n",
       "           volume  \n",
       "0       2163600.0  \n",
       "1       2386400.0  \n",
       "2       2489500.0  \n",
       "3       2006300.0  \n",
       "4       1408600.0  \n",
       "...           ...  \n",
       "851259   973800.0  \n",
       "851260  1938100.0  \n",
       "851261  1701200.0  \n",
       "851262  1380900.0  \n",
       "851263   705100.0  \n",
       "\n",
       "[851264 rows x 7 columns]"
      ]
     },
     "execution_count": 3,
     "metadata": {},
     "output_type": "execute_result"
    }
   ],
   "source": [
    "price_df"
   ]
  },
  {
   "cell_type": "code",
   "execution_count": 4,
   "metadata": {},
   "outputs": [
    {
     "data": {
      "text/html": [
       "<div>\n",
       "<style scoped>\n",
       "    .dataframe tbody tr th:only-of-type {\n",
       "        vertical-align: middle;\n",
       "    }\n",
       "\n",
       "    .dataframe tbody tr th {\n",
       "        vertical-align: top;\n",
       "    }\n",
       "\n",
       "    .dataframe thead th {\n",
       "        text-align: right;\n",
       "    }\n",
       "</style>\n",
       "<table border=\"1\" class=\"dataframe\">\n",
       "  <thead>\n",
       "    <tr style=\"text-align: right;\">\n",
       "      <th></th>\n",
       "      <th>Ticker symbol</th>\n",
       "      <th>Security</th>\n",
       "      <th>SEC filings</th>\n",
       "      <th>GICS Sector</th>\n",
       "      <th>GICS Sub Industry</th>\n",
       "      <th>Address of Headquarters</th>\n",
       "      <th>Date first added</th>\n",
       "      <th>CIK</th>\n",
       "    </tr>\n",
       "  </thead>\n",
       "  <tbody>\n",
       "    <tr>\n",
       "      <th>0</th>\n",
       "      <td>MMM</td>\n",
       "      <td>3M Company</td>\n",
       "      <td>reports</td>\n",
       "      <td>Industrials</td>\n",
       "      <td>Industrial Conglomerates</td>\n",
       "      <td>St. Paul, Minnesota</td>\n",
       "      <td>NaN</td>\n",
       "      <td>66740</td>\n",
       "    </tr>\n",
       "    <tr>\n",
       "      <th>1</th>\n",
       "      <td>ABT</td>\n",
       "      <td>Abbott Laboratories</td>\n",
       "      <td>reports</td>\n",
       "      <td>Health Care</td>\n",
       "      <td>Health Care Equipment</td>\n",
       "      <td>North Chicago, Illinois</td>\n",
       "      <td>1964-03-31</td>\n",
       "      <td>1800</td>\n",
       "    </tr>\n",
       "    <tr>\n",
       "      <th>2</th>\n",
       "      <td>ABBV</td>\n",
       "      <td>AbbVie</td>\n",
       "      <td>reports</td>\n",
       "      <td>Health Care</td>\n",
       "      <td>Pharmaceuticals</td>\n",
       "      <td>North Chicago, Illinois</td>\n",
       "      <td>2012-12-31</td>\n",
       "      <td>1551152</td>\n",
       "    </tr>\n",
       "    <tr>\n",
       "      <th>3</th>\n",
       "      <td>ACN</td>\n",
       "      <td>Accenture plc</td>\n",
       "      <td>reports</td>\n",
       "      <td>Information Technology</td>\n",
       "      <td>IT Consulting &amp; Other Services</td>\n",
       "      <td>Dublin, Ireland</td>\n",
       "      <td>2011-07-06</td>\n",
       "      <td>1467373</td>\n",
       "    </tr>\n",
       "    <tr>\n",
       "      <th>4</th>\n",
       "      <td>ATVI</td>\n",
       "      <td>Activision Blizzard</td>\n",
       "      <td>reports</td>\n",
       "      <td>Information Technology</td>\n",
       "      <td>Home Entertainment Software</td>\n",
       "      <td>Santa Monica, California</td>\n",
       "      <td>2015-08-31</td>\n",
       "      <td>718877</td>\n",
       "    </tr>\n",
       "    <tr>\n",
       "      <th>...</th>\n",
       "      <td>...</td>\n",
       "      <td>...</td>\n",
       "      <td>...</td>\n",
       "      <td>...</td>\n",
       "      <td>...</td>\n",
       "      <td>...</td>\n",
       "      <td>...</td>\n",
       "      <td>...</td>\n",
       "    </tr>\n",
       "    <tr>\n",
       "      <th>500</th>\n",
       "      <td>YHOO</td>\n",
       "      <td>Yahoo Inc.</td>\n",
       "      <td>reports</td>\n",
       "      <td>Information Technology</td>\n",
       "      <td>Internet Software &amp; Services</td>\n",
       "      <td>Sunnyvale, California</td>\n",
       "      <td>NaN</td>\n",
       "      <td>1011006</td>\n",
       "    </tr>\n",
       "    <tr>\n",
       "      <th>501</th>\n",
       "      <td>YUM</td>\n",
       "      <td>Yum! Brands Inc</td>\n",
       "      <td>reports</td>\n",
       "      <td>Consumer Discretionary</td>\n",
       "      <td>Restaurants</td>\n",
       "      <td>Louisville, Kentucky</td>\n",
       "      <td>1997-10-06</td>\n",
       "      <td>1041061</td>\n",
       "    </tr>\n",
       "    <tr>\n",
       "      <th>502</th>\n",
       "      <td>ZBH</td>\n",
       "      <td>Zimmer Biomet Holdings</td>\n",
       "      <td>reports</td>\n",
       "      <td>Health Care</td>\n",
       "      <td>Health Care Equipment</td>\n",
       "      <td>Warsaw, Indiana</td>\n",
       "      <td>NaN</td>\n",
       "      <td>1136869</td>\n",
       "    </tr>\n",
       "    <tr>\n",
       "      <th>503</th>\n",
       "      <td>ZION</td>\n",
       "      <td>Zions Bancorp</td>\n",
       "      <td>reports</td>\n",
       "      <td>Financials</td>\n",
       "      <td>Regional Banks</td>\n",
       "      <td>Salt Lake City, Utah</td>\n",
       "      <td>NaN</td>\n",
       "      <td>109380</td>\n",
       "    </tr>\n",
       "    <tr>\n",
       "      <th>504</th>\n",
       "      <td>ZTS</td>\n",
       "      <td>Zoetis</td>\n",
       "      <td>reports</td>\n",
       "      <td>Health Care</td>\n",
       "      <td>Pharmaceuticals</td>\n",
       "      <td>Florham Park, New Jersey</td>\n",
       "      <td>2013-06-21</td>\n",
       "      <td>1555280</td>\n",
       "    </tr>\n",
       "  </tbody>\n",
       "</table>\n",
       "<p>505 rows × 8 columns</p>\n",
       "</div>"
      ],
      "text/plain": [
       "    Ticker symbol                Security SEC filings             GICS Sector  \\\n",
       "0             MMM              3M Company     reports             Industrials   \n",
       "1             ABT     Abbott Laboratories     reports             Health Care   \n",
       "2            ABBV                  AbbVie     reports             Health Care   \n",
       "3             ACN           Accenture plc     reports  Information Technology   \n",
       "4            ATVI     Activision Blizzard     reports  Information Technology   \n",
       "..            ...                     ...         ...                     ...   \n",
       "500          YHOO              Yahoo Inc.     reports  Information Technology   \n",
       "501           YUM         Yum! Brands Inc     reports  Consumer Discretionary   \n",
       "502           ZBH  Zimmer Biomet Holdings     reports             Health Care   \n",
       "503          ZION           Zions Bancorp     reports              Financials   \n",
       "504           ZTS                  Zoetis     reports             Health Care   \n",
       "\n",
       "                  GICS Sub Industry   Address of Headquarters  \\\n",
       "0          Industrial Conglomerates       St. Paul, Minnesota   \n",
       "1             Health Care Equipment   North Chicago, Illinois   \n",
       "2                   Pharmaceuticals   North Chicago, Illinois   \n",
       "3    IT Consulting & Other Services           Dublin, Ireland   \n",
       "4       Home Entertainment Software  Santa Monica, California   \n",
       "..                              ...                       ...   \n",
       "500    Internet Software & Services     Sunnyvale, California   \n",
       "501                     Restaurants      Louisville, Kentucky   \n",
       "502           Health Care Equipment           Warsaw, Indiana   \n",
       "503                  Regional Banks      Salt Lake City, Utah   \n",
       "504                 Pharmaceuticals  Florham Park, New Jersey   \n",
       "\n",
       "    Date first added      CIK  \n",
       "0                NaN    66740  \n",
       "1         1964-03-31     1800  \n",
       "2         2012-12-31  1551152  \n",
       "3         2011-07-06  1467373  \n",
       "4         2015-08-31   718877  \n",
       "..               ...      ...  \n",
       "500              NaN  1011006  \n",
       "501       1997-10-06  1041061  \n",
       "502              NaN  1136869  \n",
       "503              NaN   109380  \n",
       "504       2013-06-21  1555280  \n",
       "\n",
       "[505 rows x 8 columns]"
      ]
     },
     "execution_count": 4,
     "metadata": {},
     "output_type": "execute_result"
    }
   ],
   "source": [
    "securities_df"
   ]
  },
  {
   "cell_type": "markdown",
   "metadata": {},
   "source": [
    "## Preprocessing Steps"
   ]
  },
  {
   "cell_type": "markdown",
   "metadata": {},
   "source": [
    "1. Add additional features from price data\n",
    "2. Apply standardisation of the train and test data"
   ]
  },
  {
   "cell_type": "code",
   "execution_count": 5,
   "metadata": {},
   "outputs": [],
   "source": [
    "# Source https://blog.quantinsti.com/neural-network-python/?utm_campaign=News&utm_medium=Community&utm_source=DataCamp.com"
   ]
  },
  {
   "cell_type": "code",
   "execution_count": 6,
   "metadata": {},
   "outputs": [],
   "source": [
    "price_df = price_df[['symbol','date','open','low','high','volume','close']]"
   ]
  },
  {
   "cell_type": "code",
   "execution_count": 7,
   "metadata": {},
   "outputs": [
    {
     "data": {
      "text/html": [
       "<div>\n",
       "<style scoped>\n",
       "    .dataframe tbody tr th:only-of-type {\n",
       "        vertical-align: middle;\n",
       "    }\n",
       "\n",
       "    .dataframe tbody tr th {\n",
       "        vertical-align: top;\n",
       "    }\n",
       "\n",
       "    .dataframe thead th {\n",
       "        text-align: right;\n",
       "    }\n",
       "</style>\n",
       "<table border=\"1\" class=\"dataframe\">\n",
       "  <thead>\n",
       "    <tr style=\"text-align: right;\">\n",
       "      <th></th>\n",
       "      <th>symbol</th>\n",
       "      <th>date</th>\n",
       "      <th>open</th>\n",
       "      <th>low</th>\n",
       "      <th>high</th>\n",
       "      <th>volume</th>\n",
       "      <th>close</th>\n",
       "    </tr>\n",
       "  </thead>\n",
       "  <tbody>\n",
       "    <tr>\n",
       "      <th>354496</th>\n",
       "      <td>FB</td>\n",
       "      <td>2013-01-02</td>\n",
       "      <td>27.440001</td>\n",
       "      <td>27.420000</td>\n",
       "      <td>28.180000</td>\n",
       "      <td>69846400.0</td>\n",
       "      <td>28.000000</td>\n",
       "    </tr>\n",
       "    <tr>\n",
       "      <th>354979</th>\n",
       "      <td>FB</td>\n",
       "      <td>2013-01-03</td>\n",
       "      <td>27.879999</td>\n",
       "      <td>27.590000</td>\n",
       "      <td>28.469999</td>\n",
       "      <td>63140600.0</td>\n",
       "      <td>27.770000</td>\n",
       "    </tr>\n",
       "    <tr>\n",
       "      <th>355462</th>\n",
       "      <td>FB</td>\n",
       "      <td>2013-01-04</td>\n",
       "      <td>28.010000</td>\n",
       "      <td>27.830000</td>\n",
       "      <td>28.930000</td>\n",
       "      <td>72715400.0</td>\n",
       "      <td>28.760000</td>\n",
       "    </tr>\n",
       "    <tr>\n",
       "      <th>355945</th>\n",
       "      <td>FB</td>\n",
       "      <td>2013-01-07</td>\n",
       "      <td>28.690001</td>\n",
       "      <td>28.650000</td>\n",
       "      <td>29.790001</td>\n",
       "      <td>83781800.0</td>\n",
       "      <td>29.420000</td>\n",
       "    </tr>\n",
       "    <tr>\n",
       "      <th>356428</th>\n",
       "      <td>FB</td>\n",
       "      <td>2013-01-08</td>\n",
       "      <td>29.510000</td>\n",
       "      <td>28.860001</td>\n",
       "      <td>29.600000</td>\n",
       "      <td>45871300.0</td>\n",
       "      <td>29.059999</td>\n",
       "    </tr>\n",
       "    <tr>\n",
       "      <th>...</th>\n",
       "      <td>...</td>\n",
       "      <td>...</td>\n",
       "      <td>...</td>\n",
       "      <td>...</td>\n",
       "      <td>...</td>\n",
       "      <td>...</td>\n",
       "      <td>...</td>\n",
       "    </tr>\n",
       "    <tr>\n",
       "      <th>848936</th>\n",
       "      <td>FB</td>\n",
       "      <td>2016-12-23</td>\n",
       "      <td>117.000000</td>\n",
       "      <td>116.300003</td>\n",
       "      <td>117.559998</td>\n",
       "      <td>10877300.0</td>\n",
       "      <td>117.269997</td>\n",
       "    </tr>\n",
       "    <tr>\n",
       "      <th>849436</th>\n",
       "      <td>FB</td>\n",
       "      <td>2016-12-27</td>\n",
       "      <td>116.959999</td>\n",
       "      <td>116.860001</td>\n",
       "      <td>118.680000</td>\n",
       "      <td>12027700.0</td>\n",
       "      <td>118.010002</td>\n",
       "    </tr>\n",
       "    <tr>\n",
       "      <th>849936</th>\n",
       "      <td>FB</td>\n",
       "      <td>2016-12-28</td>\n",
       "      <td>118.190002</td>\n",
       "      <td>116.650002</td>\n",
       "      <td>118.250000</td>\n",
       "      <td>11980200.0</td>\n",
       "      <td>116.919998</td>\n",
       "    </tr>\n",
       "    <tr>\n",
       "      <th>850436</th>\n",
       "      <td>FB</td>\n",
       "      <td>2016-12-29</td>\n",
       "      <td>117.000000</td>\n",
       "      <td>116.059998</td>\n",
       "      <td>117.529999</td>\n",
       "      <td>9921400.0</td>\n",
       "      <td>116.349998</td>\n",
       "    </tr>\n",
       "    <tr>\n",
       "      <th>850936</th>\n",
       "      <td>FB</td>\n",
       "      <td>2016-12-30</td>\n",
       "      <td>116.599998</td>\n",
       "      <td>114.769997</td>\n",
       "      <td>116.830002</td>\n",
       "      <td>18600100.0</td>\n",
       "      <td>115.050003</td>\n",
       "    </tr>\n",
       "  </tbody>\n",
       "</table>\n",
       "<p>1008 rows × 7 columns</p>\n",
       "</div>"
      ],
      "text/plain": [
       "       symbol        date        open         low        high      volume  \\\n",
       "354496     FB  2013-01-02   27.440001   27.420000   28.180000  69846400.0   \n",
       "354979     FB  2013-01-03   27.879999   27.590000   28.469999  63140600.0   \n",
       "355462     FB  2013-01-04   28.010000   27.830000   28.930000  72715400.0   \n",
       "355945     FB  2013-01-07   28.690001   28.650000   29.790001  83781800.0   \n",
       "356428     FB  2013-01-08   29.510000   28.860001   29.600000  45871300.0   \n",
       "...       ...         ...         ...         ...         ...         ...   \n",
       "848936     FB  2016-12-23  117.000000  116.300003  117.559998  10877300.0   \n",
       "849436     FB  2016-12-27  116.959999  116.860001  118.680000  12027700.0   \n",
       "849936     FB  2016-12-28  118.190002  116.650002  118.250000  11980200.0   \n",
       "850436     FB  2016-12-29  117.000000  116.059998  117.529999   9921400.0   \n",
       "850936     FB  2016-12-30  116.599998  114.769997  116.830002  18600100.0   \n",
       "\n",
       "             close  \n",
       "354496   28.000000  \n",
       "354979   27.770000  \n",
       "355462   28.760000  \n",
       "355945   29.420000  \n",
       "356428   29.059999  \n",
       "...            ...  \n",
       "848936  117.269997  \n",
       "849436  118.010002  \n",
       "849936  116.919998  \n",
       "850436  116.349998  \n",
       "850936  115.050003  \n",
       "\n",
       "[1008 rows x 7 columns]"
      ]
     },
     "execution_count": 7,
     "metadata": {},
     "output_type": "execute_result"
    }
   ],
   "source": [
    "# Fine Tune using FB price data\n",
    "FB_prices = price_df[price_df['symbol']=='FB']\n",
    "FB_prices"
   ]
  },
  {
   "cell_type": "code",
   "execution_count": 8,
   "metadata": {},
   "outputs": [
    {
     "name": "stderr",
     "output_type": "stream",
     "text": [
      "<ipython-input-8-ef5ce08c8a27>:2: SettingWithCopyWarning: \n",
      "A value is trying to be set on a copy of a slice from a DataFrame.\n",
      "Try using .loc[row_indexer,col_indexer] = value instead\n",
      "\n",
      "See the caveats in the documentation: https://pandas.pydata.org/pandas-docs/stable/user_guide/indexing.html#returning-a-view-versus-a-copy\n",
      "  FB_prices['close'] = FB_prices['close'].shift(-1)\n"
     ]
    },
    {
     "data": {
      "text/html": [
       "<div>\n",
       "<style scoped>\n",
       "    .dataframe tbody tr th:only-of-type {\n",
       "        vertical-align: middle;\n",
       "    }\n",
       "\n",
       "    .dataframe tbody tr th {\n",
       "        vertical-align: top;\n",
       "    }\n",
       "\n",
       "    .dataframe thead th {\n",
       "        text-align: right;\n",
       "    }\n",
       "</style>\n",
       "<table border=\"1\" class=\"dataframe\">\n",
       "  <thead>\n",
       "    <tr style=\"text-align: right;\">\n",
       "      <th></th>\n",
       "      <th>symbol</th>\n",
       "      <th>date</th>\n",
       "      <th>open</th>\n",
       "      <th>low</th>\n",
       "      <th>high</th>\n",
       "      <th>volume</th>\n",
       "      <th>close</th>\n",
       "    </tr>\n",
       "  </thead>\n",
       "  <tbody>\n",
       "    <tr>\n",
       "      <th>354496</th>\n",
       "      <td>FB</td>\n",
       "      <td>2013-01-02</td>\n",
       "      <td>27.440001</td>\n",
       "      <td>27.420000</td>\n",
       "      <td>28.180000</td>\n",
       "      <td>69846400.0</td>\n",
       "      <td>27.770000</td>\n",
       "    </tr>\n",
       "    <tr>\n",
       "      <th>354979</th>\n",
       "      <td>FB</td>\n",
       "      <td>2013-01-03</td>\n",
       "      <td>27.879999</td>\n",
       "      <td>27.590000</td>\n",
       "      <td>28.469999</td>\n",
       "      <td>63140600.0</td>\n",
       "      <td>28.760000</td>\n",
       "    </tr>\n",
       "    <tr>\n",
       "      <th>355462</th>\n",
       "      <td>FB</td>\n",
       "      <td>2013-01-04</td>\n",
       "      <td>28.010000</td>\n",
       "      <td>27.830000</td>\n",
       "      <td>28.930000</td>\n",
       "      <td>72715400.0</td>\n",
       "      <td>29.420000</td>\n",
       "    </tr>\n",
       "    <tr>\n",
       "      <th>355945</th>\n",
       "      <td>FB</td>\n",
       "      <td>2013-01-07</td>\n",
       "      <td>28.690001</td>\n",
       "      <td>28.650000</td>\n",
       "      <td>29.790001</td>\n",
       "      <td>83781800.0</td>\n",
       "      <td>29.059999</td>\n",
       "    </tr>\n",
       "    <tr>\n",
       "      <th>356428</th>\n",
       "      <td>FB</td>\n",
       "      <td>2013-01-08</td>\n",
       "      <td>29.510000</td>\n",
       "      <td>28.860001</td>\n",
       "      <td>29.600000</td>\n",
       "      <td>45871300.0</td>\n",
       "      <td>30.590000</td>\n",
       "    </tr>\n",
       "    <tr>\n",
       "      <th>...</th>\n",
       "      <td>...</td>\n",
       "      <td>...</td>\n",
       "      <td>...</td>\n",
       "      <td>...</td>\n",
       "      <td>...</td>\n",
       "      <td>...</td>\n",
       "      <td>...</td>\n",
       "    </tr>\n",
       "    <tr>\n",
       "      <th>848436</th>\n",
       "      <td>FB</td>\n",
       "      <td>2016-12-22</td>\n",
       "      <td>118.860001</td>\n",
       "      <td>116.930000</td>\n",
       "      <td>118.989998</td>\n",
       "      <td>16222400.0</td>\n",
       "      <td>117.269997</td>\n",
       "    </tr>\n",
       "    <tr>\n",
       "      <th>848936</th>\n",
       "      <td>FB</td>\n",
       "      <td>2016-12-23</td>\n",
       "      <td>117.000000</td>\n",
       "      <td>116.300003</td>\n",
       "      <td>117.559998</td>\n",
       "      <td>10877300.0</td>\n",
       "      <td>118.010002</td>\n",
       "    </tr>\n",
       "    <tr>\n",
       "      <th>849436</th>\n",
       "      <td>FB</td>\n",
       "      <td>2016-12-27</td>\n",
       "      <td>116.959999</td>\n",
       "      <td>116.860001</td>\n",
       "      <td>118.680000</td>\n",
       "      <td>12027700.0</td>\n",
       "      <td>116.919998</td>\n",
       "    </tr>\n",
       "    <tr>\n",
       "      <th>849936</th>\n",
       "      <td>FB</td>\n",
       "      <td>2016-12-28</td>\n",
       "      <td>118.190002</td>\n",
       "      <td>116.650002</td>\n",
       "      <td>118.250000</td>\n",
       "      <td>11980200.0</td>\n",
       "      <td>116.349998</td>\n",
       "    </tr>\n",
       "    <tr>\n",
       "      <th>850436</th>\n",
       "      <td>FB</td>\n",
       "      <td>2016-12-29</td>\n",
       "      <td>117.000000</td>\n",
       "      <td>116.059998</td>\n",
       "      <td>117.529999</td>\n",
       "      <td>9921400.0</td>\n",
       "      <td>115.050003</td>\n",
       "    </tr>\n",
       "  </tbody>\n",
       "</table>\n",
       "<p>1007 rows × 7 columns</p>\n",
       "</div>"
      ],
      "text/plain": [
       "       symbol        date        open         low        high      volume  \\\n",
       "354496     FB  2013-01-02   27.440001   27.420000   28.180000  69846400.0   \n",
       "354979     FB  2013-01-03   27.879999   27.590000   28.469999  63140600.0   \n",
       "355462     FB  2013-01-04   28.010000   27.830000   28.930000  72715400.0   \n",
       "355945     FB  2013-01-07   28.690001   28.650000   29.790001  83781800.0   \n",
       "356428     FB  2013-01-08   29.510000   28.860001   29.600000  45871300.0   \n",
       "...       ...         ...         ...         ...         ...         ...   \n",
       "848436     FB  2016-12-22  118.860001  116.930000  118.989998  16222400.0   \n",
       "848936     FB  2016-12-23  117.000000  116.300003  117.559998  10877300.0   \n",
       "849436     FB  2016-12-27  116.959999  116.860001  118.680000  12027700.0   \n",
       "849936     FB  2016-12-28  118.190002  116.650002  118.250000  11980200.0   \n",
       "850436     FB  2016-12-29  117.000000  116.059998  117.529999   9921400.0   \n",
       "\n",
       "             close  \n",
       "354496   27.770000  \n",
       "354979   28.760000  \n",
       "355462   29.420000  \n",
       "355945   29.059999  \n",
       "356428   30.590000  \n",
       "...            ...  \n",
       "848436  117.269997  \n",
       "848936  118.010002  \n",
       "849436  116.919998  \n",
       "849936  116.349998  \n",
       "850436  115.050003  \n",
       "\n",
       "[1007 rows x 7 columns]"
      ]
     },
     "execution_count": 8,
     "metadata": {},
     "output_type": "execute_result"
    }
   ],
   "source": [
    "# Shift the last row of y and remove the last observation\n",
    "FB_prices['close'] = FB_prices['close'].shift(-1)\n",
    "FB_prices = FB_prices.dropna()\n",
    "FB_prices"
   ]
  },
  {
   "cell_type": "code",
   "execution_count": 9,
   "metadata": {},
   "outputs": [],
   "source": [
    "# Separate close price variable, remove ticker variable\n",
    "X = FB_prices.iloc[:, 1:-1]\n",
    "y = FB_prices.iloc[:, -1]\n",
    "X = X.set_index('date')"
   ]
  },
  {
   "cell_type": "code",
   "execution_count": 10,
   "metadata": {},
   "outputs": [],
   "source": [
    "# Split into train, validation, test sets (60:20:20)\n",
    "# Split Train into Train and Validation for model tuning\n",
    "np.random.seed(5004)\n",
    "split = int(len(FB_prices)*0.8)\n",
    "X_train, X_test, y_train, y_test = X[:split], X[split:], y[:split], y[split:]"
   ]
  },
  {
   "cell_type": "code",
   "execution_count": 11,
   "metadata": {},
   "outputs": [],
   "source": [
    "# Scale Data\n",
    "from sklearn.preprocessing import StandardScaler\n",
    "sc = StandardScaler()\n",
    "X_train = sc.fit_transform(X_train)\n",
    "X_test = sc.transform(X_test)"
   ]
  },
  {
   "cell_type": "code",
   "execution_count": 12,
   "metadata": {},
   "outputs": [
    {
     "name": "stdout",
     "output_type": "stream",
     "text": [
      "(805, 4)\n",
      "(805,)\n",
      "(202, 4)\n",
      "(202,)\n"
     ]
    }
   ],
   "source": [
    "print(X_train.shape)\n",
    "print(y_train.shape)\n",
    "\n",
    "print(X_test.shape)\n",
    "print(y_test.shape)"
   ]
  },
  {
   "cell_type": "markdown",
   "metadata": {},
   "source": [
    "## Artificial Neural Network Implementation"
   ]
  },
  {
   "cell_type": "markdown",
   "metadata": {},
   "source": [
    "Tickers:\n",
    "- Facebook - FB\n",
    "- Amazon - AMZN\n",
    "- Apple - AAPL\n",
    "- Netflix - NFLX\n",
    "- Alphabet - GOOGL"
   ]
  },
  {
   "cell_type": "markdown",
   "metadata": {},
   "source": [
    "## Hyperparameter Gradient Descent Tuning"
   ]
  },
  {
   "cell_type": "markdown",
   "metadata": {},
   "source": [
    "I will be tuning the following:\n",
    "1. Choice of optimisation for the cost function\n",
    "2. Choice of kernal initialiser\n",
    "3. Size of layers\n",
    "4. Numer of nodes used in the neural network"
   ]
  },
  {
   "cell_type": "code",
   "execution_count": 13,
   "metadata": {},
   "outputs": [],
   "source": [
    "from keras.models import Sequential\n",
    "from keras.layers import Dense\n",
    "from keras.layers import Dropout\n",
    "from keras.wrappers.scikit_learn import KerasRegressor\n",
    "from sklearn.pipeline import Pipeline\n",
    "from sklearn.model_selection import cross_val_score\n",
    "from sklearn.model_selection import KFold"
   ]
  },
  {
   "cell_type": "code",
   "execution_count": 14,
   "metadata": {},
   "outputs": [],
   "source": [
    "# https://www.syncfusion.com/ebooks/keras-succinctly/regression"
   ]
  },
  {
   "cell_type": "markdown",
   "metadata": {},
   "source": [
    "## Running ANN on Test Data for 5 FAANG stocks selected"
   ]
  },
  {
   "cell_type": "markdown",
   "metadata": {},
   "source": [
    "Tuned model with highest MSE that will be evaluation on the 5 stocks below:\n",
    "\n",
    "- 2 Layer ANN\n",
    "- Kernal Initialisation: Uniform\n",
    "- Number of Neurons: 50\n",
    "- Activation Function: Linear\n",
    "- Optimisation: RMSprop (learning rate 0.001, dropout rate = 0.1)"
   ]
  },
  {
   "cell_type": "code",
   "execution_count": 15,
   "metadata": {},
   "outputs": [],
   "source": [
    "# Creating DatSets for Testing\n",
    "# Facebook - FB\n",
    "FB_prices = price_df[price_df['symbol']== 'FB']\n",
    "\n",
    "# Separate close price variable, remove ticker variable\n",
    "X_FB = FB_prices.iloc[:, 1:-1]\n",
    "y_FB = FB_prices.iloc[:, -1]\n",
    "X_FB = X_FB.set_index('date')\n",
    "\n",
    "# Split Train into Train and Validation for model tuning\n",
    "np.random.seed(5005)\n",
    "split = int(len(FB_prices)*0.8)\n",
    "FB_X_train, FB_X_test, FB_y_train, FB_y_test = X_FB[:split], X_FB[split:], y_FB[:split], y_FB[split:]\n",
    "\n",
    "# Scale Data\n",
    "from sklearn.preprocessing import StandardScaler\n",
    "sc = StandardScaler()\n",
    "FB_X_train = sc.fit_transform(FB_X_train)\n",
    "FB_X_test = sc.transform(FB_X_test)\n",
    "X_FB = sc.fit_transform(X_FB)\n",
    "y_FB = sc.fit_transform(X_FB)"
   ]
  },
  {
   "cell_type": "code",
   "execution_count": 16,
   "metadata": {},
   "outputs": [],
   "source": [
    "# Amazon - AMZN\n",
    "AMZN_prices = price_df[price_df['symbol']== 'AMZN']\n",
    "\n",
    "# Separate close price variable, remove ticker variable\n",
    "X_AMZN = AMZN_prices.iloc[:, 1:-1]\n",
    "y_AMZN = AMZN_prices.iloc[:, -1]\n",
    "X_AMZN = X_AMZN.set_index('date')\n",
    "\n",
    "# Split Train into Train and Validation for model tuning\n",
    "np.random.seed(5006)\n",
    "split = int(len(AMZN_prices)*0.8)\n",
    "AMZN_X_train, AMZN_X_test, AMZN_y_train, AMZN_y_test = X_AMZN[:split], X_AMZN[split:], y_AMZN[:split], y_AMZN[split:]\n",
    "\n",
    "# Scale Data\n",
    "from sklearn.preprocessing import StandardScaler\n",
    "sc = StandardScaler()\n",
    "AMZN_X_train = sc.fit_transform(AMZN_X_train)\n",
    "AMZN_X_test = sc.transform(AMZN_X_test)\n",
    "X_AMZN = sc.fit_transform(X_AMZN)"
   ]
  },
  {
   "cell_type": "code",
   "execution_count": 17,
   "metadata": {},
   "outputs": [],
   "source": [
    "# Apple - AAPL\n",
    "AAPL_prices = price_df[price_df['symbol']== 'AAPL']\n",
    "\n",
    "# Separate close price variable, remove ticker variable\n",
    "X_AAPL = AAPL_prices.iloc[:, 1:-1]\n",
    "y_AAPL = AAPL_prices.iloc[:, -1]\n",
    "X_AAPL = X_AAPL.set_index('date')\n",
    "\n",
    "# Split Train into Train and Validation for model tuning\n",
    "np.random.seed(5007)\n",
    "split = int(len(AAPL_prices)*0.8)\n",
    "AAPL_X_train, AAPL_X_test, AAPL_y_train, AAPL_y_test = X_AAPL[:split], X_AAPL[split:], y_AAPL[:split], y_AAPL[split:]\n",
    "\n",
    "# Scale Data\n",
    "from sklearn.preprocessing import StandardScaler\n",
    "sc = StandardScaler()\n",
    "AAPL_X_train = sc.fit_transform(AAPL_X_train)\n",
    "AAPL_X_test = sc.transform(AAPL_X_test)\n",
    "X_AAPL = sc.fit_transform(X_AAPL)"
   ]
  },
  {
   "cell_type": "code",
   "execution_count": 18,
   "metadata": {},
   "outputs": [],
   "source": [
    "# Netflix - NFLX\n",
    "NFLX_prices = price_df[price_df['symbol']== 'NFLX']\n",
    "\n",
    "# Separate close price variable, remove ticker variable\n",
    "X_NFLX = NFLX_prices.iloc[:, 1:-1]\n",
    "y_NFLX = NFLX_prices.iloc[:, -1]\n",
    "X_NFLX = X_NFLX.set_index('date')\n",
    "\n",
    "# Split Train into Train and Validation for model tuning\n",
    "np.random.seed(5008)\n",
    "split = int(len(NFLX_prices)*0.8)\n",
    "NFLX_X_train, NFLX_X_test, NFLX_y_train, NFLX_y_test =X_NFLX[:split], X_NFLX[split:], y_NFLX[:split], y_NFLX[split:]\n",
    "\n",
    "# Scale Data\n",
    "from sklearn.preprocessing import StandardScaler\n",
    "sc = StandardScaler()\n",
    "NFLX_X_train = sc.fit_transform(NFLX_X_train)\n",
    "NFLX_X_test = sc.transform(NFLX_X_test)\n",
    "X_NFLX = sc.fit_transform(X_NFLX)"
   ]
  },
  {
   "cell_type": "code",
   "execution_count": 19,
   "metadata": {},
   "outputs": [],
   "source": [
    "# Alphabet - GOOGL\n",
    "GOOGL_prices = price_df[price_df['symbol']== 'GOOGL']\n",
    "\n",
    "# Separate close price variable, remove ticker variable\n",
    "X_GOOGL = GOOGL_prices.iloc[:, 1:-1]\n",
    "y_GOOGL = GOOGL_prices.iloc[:, -1]\n",
    "X_GOOGL = X_GOOGL.set_index('date')\n",
    "\n",
    "# Split Train into Train and Validation for model tuning\n",
    "np.random.seed(5009)\n",
    "split = int(len(GOOGL_prices)*0.8)\n",
    "GOOGL_X_train, GOOGL_X_test, GOOGL_y_train, GOOGL_y_test = X_GOOGL[:split], X_GOOGL[split:], y_GOOGL[:split], y_GOOGL[split:]\n",
    "\n",
    "# Scale Data\n",
    "from sklearn.preprocessing import StandardScaler\n",
    "sc = StandardScaler()\n",
    "GOOGL_X_train = sc.fit_transform(GOOGL_X_train)\n",
    "GOOGL_X_test = sc.transform(GOOGL_X_test)\n",
    "X_GOOGL = sc.fit_transform(X_GOOGL)"
   ]
  },
  {
   "cell_type": "markdown",
   "metadata": {},
   "source": [
    "### Test Set Evaluation"
   ]
  },
  {
   "cell_type": "code",
   "execution_count": 20,
   "metadata": {},
   "outputs": [],
   "source": [
    "# Evaluation Functions\n",
    "def r_square(y_true, y_pred):\n",
    "    from keras import backend as K\n",
    "    SS_res =  K.sum(K.square(y_true - y_pred)) \n",
    "    SS_tot = K.sum(K.square(y_true - K.mean(y_true))) \n",
    "    return (1 - SS_res/(SS_tot + K.epsilon()))\n",
    "\n",
    "def rmse(y_true, y_pred):\n",
    "    from keras import backend\n",
    "    return backend.sqrt(backend.mean(backend.square(y_pred - y_true), axis=-1))"
   ]
  },
  {
   "cell_type": "code",
   "execution_count": 21,
   "metadata": {},
   "outputs": [
    {
     "name": "stdout",
     "output_type": "stream",
     "text": [
      "7/7 [==============================] - 0s 718us/step - loss: 2.5702 - mean_squared_error: 2.5702 - rmse: 1.4421 - r_square: 0.2413\n",
      "Time to compute accuracy:  0:01:58.799140\n",
      "Loss:, MSE:, RMSE:, R-square:  [2.5702009201049805, 2.5702009201049805, 1.442126750946045, 0.24132438004016876]\n",
      "Cross Validation Score:  0.7896709121763706\n"
     ]
    }
   ],
   "source": [
    "# FB Test Evaluation\n",
    "# Testing R squared on 1 layer ANN\n",
    "# https://github.com/keras-team/keras/issues/7947\n",
    "def ann_rss():\n",
    "    model = Sequential()\n",
    "    model.add(Dense(units=100, kernel_initializer='normal', input_dim=FB_X_train.shape[1], activation='relu'))\n",
    "    model.add(Dropout(rate=0.1))\n",
    "    model.add(Dense(1, kernel_initializer='normal', activation='relu'))\n",
    "    # Compile model\n",
    "    # Optimise gradient descent\n",
    "    optimizer = RMSprop(lr=0.001)\n",
    "    model.compile(loss=\"mean_squared_error\", optimizer='Adam', metrics=[\"mean_squared_error\",rmse,r_square])\n",
    "    return model\n",
    "\n",
    "model = Sequential()\n",
    "model.add(Dense(units=100, kernel_initializer='normal', input_dim=FB_X_train.shape[1], activation='relu'))\n",
    "model.add(Dropout(rate=0.1))\n",
    "model.add(Dense(1, kernel_initializer='normal', activation='relu'))\n",
    "# Compile model\n",
    "# Optimise gradient descent\n",
    "optimizer = RMSprop(lr=0.001)\n",
    "model.compile(loss=\"mean_squared_error\", optimizer='Adam', metrics=[\"mean_squared_error\",rmse,r_square])\n",
    "\n",
    "t0=datetime.now()\n",
    "\n",
    "np.random.seed(5010)\n",
    "FB_history = model.fit(FB_X_train, FB_y_train, epochs=100, batch_size=5,verbose=0)\n",
    "FB_results = model.evaluate(FB_X_test, FB_y_test)\n",
    "FB_predictions = model.predict(FB_X_test)\n",
    "\n",
    "estimators = []\n",
    "estimators.append(('mlp', KerasRegressor(build_fn=ann_rss, epochs=100, batch_size=5, verbose=0)))\n",
    "pipeline = Pipeline(estimators)\n",
    "\n",
    "# Cross Validation Score\n",
    "kfold = KFold(n_splits=10)\n",
    "FB_CV_results = (-cross_val_score(pipeline, X = X_FB, y = y_FB, cv=kfold)).mean()\n",
    "\n",
    "# Computing MSE\n",
    "print(\"Time to compute accuracy: \",(datetime.now()-t0))\n",
    "print(\"Loss:, MSE:, RMSE:, R-square: \", FB_results)\n",
    "print(\"Cross Validation Score: \", FB_CV_results)"
   ]
  },
  {
   "cell_type": "code",
   "execution_count": 22,
   "metadata": {},
   "outputs": [
    {
     "name": "stdout",
     "output_type": "stream",
     "text": [
      "12/12 [==============================] - 0s 665us/step - loss: 30.7286 - mean_squared_error: 30.7286 - rmse: 4.4139 - r_square: -96438824.0000\n",
      "Time to compute accuracy:  0:06:01.177038\n",
      "Loss:, MSE:, RMSE:, R-square:  [30.728614807128906, 30.728614807128906, 4.413888931274414, -96438824.0]\n",
      "Cross Validation Score:  18.32960729598999\n"
     ]
    }
   ],
   "source": [
    "# AMZN Test Evaluation\n",
    "\n",
    "model = Sequential()\n",
    "model.add(Dense(units=100, kernel_initializer='normal', input_dim=FB_X_train.shape[1], activation='relu'))\n",
    "model.add(Dropout(rate=0.1))\n",
    "model.add(Dense(1, kernel_initializer='normal', activation='relu'))\n",
    "# Compile model\n",
    "# Optimise gradient descent\n",
    "optimizer = RMSprop(lr=0.001)\n",
    "model.compile(loss=\"mean_squared_error\", optimizer='Adam', metrics=[\"mean_squared_error\",rmse,r_square])\n",
    "\n",
    "t0=datetime.now()\n",
    "\n",
    "np.random.seed(5011)\n",
    "AMZN_history = model.fit(AMZN_X_train, AMZN_y_train, epochs=100, batch_size=5,verbose=0)\n",
    "AMZN_results = model.evaluate(AMZN_X_test, AMZN_y_test)\n",
    "AMZN_predictions = model.predict(AMZN_X_test)\n",
    "\n",
    "estimators = []\n",
    "estimators.append(('mlp', KerasRegressor(build_fn=ann_rss, epochs=100, batch_size=5, verbose=0)))\n",
    "pipeline = Pipeline(estimators)\n",
    "\n",
    "# Cross Validation Score\n",
    "kfold = KFold(n_splits=10)\n",
    "AMZN_CV_results = (-cross_val_score(pipeline, X = X_AMZN, y = y_AMZN, cv=kfold)).mean()\n",
    "CV_test=cross_val_score(pipeline, X = X_AMZN, y = y_AMZN, cv=kfold)\n",
    "\n",
    "# Computing MSE\n",
    "print(\"Time to compute accuracy: \",(datetime.now()-t0))\n",
    "print(\"Loss:, MSE:, RMSE:, R-square: \", AMZN_results)\n",
    "print(\"Cross Validation Score: \", AMZN_CV_results)"
   ]
  },
  {
   "cell_type": "code",
   "execution_count": 23,
   "metadata": {},
   "outputs": [
    {
     "data": {
      "text/plain": [
       "[<matplotlib.lines.Line2D at 0x197c510f7c0>]"
      ]
     },
     "execution_count": 23,
     "metadata": {},
     "output_type": "execute_result"
    },
    {
     "data": {
      "image/png": "[encoded data removed]",
      "text/plain": [
       "<Figure size 432x288 with 1 Axes>"
      ]
     },
     "metadata": {
      "needs_background": "light"
     },
     "output_type": "display_data"
    }
   ],
   "source": [
    "plt.plot(AMZN_history.history['r_square'])"
   ]
  },
  {
   "cell_type": "code",
   "execution_count": 24,
   "metadata": {},
   "outputs": [
    {
     "data": {
      "text/plain": [
       "array([-18.68632507,  -3.781703  ,  -8.87537575,  -5.169312  ,\n",
       "        -6.56843138,  -9.55179501, -10.20874691, -22.4377079 ,\n",
       "       -45.60552597, -42.67290878])"
      ]
     },
     "execution_count": 24,
     "metadata": {},
     "output_type": "execute_result"
    }
   ],
   "source": [
    "CV_test"
   ]
  },
  {
   "cell_type": "code",
   "execution_count": 25,
   "metadata": {},
   "outputs": [
    {
     "name": "stdout",
     "output_type": "stream",
     "text": [
      "12/12 [==============================] - 0s 665us/step - loss: 0.8191 - mean_squared_error: 0.8191 - rmse: 0.6850 - r_square: -60336.2539\n",
      "Time to compute accuracy:  0:02:57.032816\n",
      "Loss:, MSE:, RMSE:, R-square:  [0.819106936454773, 0.819106936454773, 0.6849704384803772, -60336.25390625]\n",
      "Cross Validation Score:  0.7294233053922653\n"
     ]
    }
   ],
   "source": [
    "# AAPL Test Evaluation\n",
    "\n",
    "model = Sequential()\n",
    "model.add(Dense(units=100, kernel_initializer='normal', input_dim=FB_X_train.shape[1], activation='relu'))\n",
    "model.add(Dropout(rate=0.1))\n",
    "model.add(Dense(1, kernel_initializer='normal', activation='relu'))\n",
    "# Compile model\n",
    "# Optimise gradient descent\n",
    "optimizer = RMSprop(lr=0.001)\n",
    "model.compile(loss=\"mean_squared_error\", optimizer='Adam', metrics=[\"mean_squared_error\",rmse,r_square])\n",
    "\n",
    "t0=datetime.now()\n",
    "\n",
    "np.random.seed(5012)\n",
    "AAPL_history = model.fit(AAPL_X_train, AAPL_y_train, epochs=100, batch_size=5,verbose=0)\n",
    "AAPL_results = model.evaluate(AAPL_X_test, AAPL_y_test)\n",
    "AAPL_predictions = model.predict(AAPL_X_test)\n",
    "\n",
    "estimators = []\n",
    "estimators.append(('mlp', KerasRegressor(build_fn=ann_rss, epochs=100, batch_size=5, verbose=0)))\n",
    "pipeline = Pipeline(estimators)\n",
    "\n",
    "# Cross Validation Score\n",
    "kfold = KFold(n_splits=10)\n",
    "AAPL_CV_results = (-cross_val_score(pipeline, X = X_AAPL, y = y_AAPL, cv=kfold)).mean()\n",
    "\n",
    "# Computing MSE\n",
    "print(\"Time to compute accuracy: \",(datetime.now()-t0))\n",
    "print(\"Loss:, MSE:, RMSE:, R-square: \", AAPL_results)\n",
    "print(\"Cross Validation Score: \", AAPL_CV_results)"
   ]
  },
  {
   "cell_type": "code",
   "execution_count": 26,
   "metadata": {},
   "outputs": [
    {
     "name": "stdout",
     "output_type": "stream",
     "text": [
      "12/12 [==============================] - 0s 831us/step - loss: 2.2374 - mean_squared_error: 2.2374 - rmse: 1.1291 - r_square: -3117669.2500\n",
      "Time to compute accuracy:  0:03:00.280770\n",
      "Loss:, MSE:, RMSE:, R-square:  [2.237445116043091, 2.237445116043091, 1.1291042566299438, -3117669.25]\n",
      "Cross Validation Score:  0.8877123214304448\n"
     ]
    }
   ],
   "source": [
    "# NFLX Test Evaluation\n",
    "\n",
    "model = Sequential()\n",
    "model.add(Dense(units=100, kernel_initializer='normal', input_dim=FB_X_train.shape[1], activation='relu'))\n",
    "model.add(Dropout(rate=0.1))\n",
    "model.add(Dense(1, kernel_initializer='normal', activation='relu'))\n",
    "# Compile model\n",
    "# Optimise gradient descent\n",
    "optimizer = RMSprop(lr=0.001)\n",
    "model.compile(loss=\"mean_squared_error\", optimizer='Adam', metrics=[\"mean_squared_error\",rmse,r_square])\n",
    "\n",
    "t0=datetime.now()\n",
    "\n",
    "NFLX_history = model.fit(NFLX_X_train, NFLX_y_train, epochs=100, batch_size=5,verbose=0)\n",
    "NFLX_results = model.evaluate(NFLX_X_test, NFLX_y_test)\n",
    "NFLX_predictions = model.predict(NFLX_X_test)\n",
    "\n",
    "np.random.seed(5013)\n",
    "estimators = []\n",
    "estimators.append(('mlp', KerasRegressor(build_fn=ann_rss, epochs=100, batch_size=5, verbose=0)))\n",
    "pipeline = Pipeline(estimators)\n",
    "\n",
    "# Cross Validation Score\n",
    "kfold = KFold(n_splits=10)\n",
    "NFLX_CV_results = (-cross_val_score(pipeline, X = X_NFLX, y = y_NFLX, cv=kfold)).mean()\n",
    "\n",
    "# Computing MSE\n",
    "print(\"Time to compute accuracy: \",(datetime.now()-t0))\n",
    "print(\"Loss:, MSE:, RMSE:, R-square: \", NFLX_results)\n",
    "print(\"Cross Validation Score: \", NFLX_CV_results)"
   ]
  },
  {
   "cell_type": "code",
   "execution_count": 27,
   "metadata": {},
   "outputs": [
    {
     "name": "stdout",
     "output_type": "stream",
     "text": [
      "12/12 [==============================] - 0s 666us/step - loss: 32.9280 - mean_squared_error: 32.9280 - rmse: 4.4565 - r_square: -11851109.0000\n",
      "Time to compute accuracy:  0:02:59.968202\n",
      "Loss:, MSE:, RMSE:, R-square:  [32.92803192138672, 32.92803192138672, 4.456546306610107, -11851109.0]\n",
      "Cross Validation Score:  19.098121929168702\n"
     ]
    }
   ],
   "source": [
    "# GOOGL Test Evaluation\n",
    "\n",
    "model = Sequential()\n",
    "model.add(Dense(units=100, kernel_initializer='normal', input_dim=FB_X_train.shape[1], activation='relu'))\n",
    "model.add(Dropout(rate=0.1))\n",
    "model.add(Dense(1, kernel_initializer='normal', activation='relu'))\n",
    "# Compile model\n",
    "# Optimise gradient descent\n",
    "optimizer = RMSprop(lr=0.001)\n",
    "model.compile(loss=\"mean_squared_error\", optimizer='Adam', metrics=[\"mean_squared_error\",rmse,r_square])\n",
    "\n",
    "t0=datetime.now()\n",
    "np.random.seed(5014)\n",
    "\n",
    "GOOGL_history = model.fit(GOOGL_X_train, GOOGL_y_train, epochs=100, batch_size=5,verbose=0)\n",
    "GOOGL_results = model.evaluate(GOOGL_X_test, GOOGL_y_test)\n",
    "GOOGL_predictions = model.predict(GOOGL_X_test)\n",
    "\n",
    "estimators = []\n",
    "estimators.append(('mlp', KerasRegressor(build_fn=ann_rss, epochs=100, batch_size=5, verbose=0)))\n",
    "pipeline = Pipeline(estimators)\n",
    "\n",
    "# Cross Validation Score\n",
    "kfold = KFold(n_splits=10)\n",
    "GOOGL_CV_results = (-cross_val_score(pipeline, X = X_GOOGL, y = y_GOOGL, cv=kfold)).mean()\n",
    "\n",
    "# Computing MSE\n",
    "print(\"Time to compute accuracy: \",(datetime.now()-t0))\n",
    "print(\"Loss:, MSE:, RMSE:, R-square: \", GOOGL_results)\n",
    "print(\"Cross Validation Score: \", GOOGL_CV_results)"
   ]
  },
  {
   "cell_type": "code",
   "execution_count": 28,
   "metadata": {},
   "outputs": [
    {
     "data": {
      "text/plain": [
       "[<matplotlib.lines.Line2D at 0x197d874c160>]"
      ]
     },
     "execution_count": 28,
     "metadata": {},
     "output_type": "execute_result"
    },
    {
     "data": {
      "image/png": "[encoded data removed]",
      "text/plain": [
       "<Figure size 432x288 with 1 Axes>"
      ]
     },
     "metadata": {
      "needs_background": "light"
     },
     "output_type": "display_data"
    }
   ],
   "source": [
    "plt.plot(GOOGL_history.history['rmse'])"
   ]
  },
  {
   "cell_type": "code",
   "execution_count": 29,
   "metadata": {},
   "outputs": [
    {
     "data": {
      "text/plain": [
       "[<matplotlib.lines.Line2D at 0x197d743a1f0>]"
      ]
     },
     "execution_count": 29,
     "metadata": {},
     "output_type": "execute_result"
    },
    {
     "data": {
      "image/png": "[encoded data removed]",
      "text/plain": [
       "<Figure size 432x288 with 1 Axes>"
      ]
     },
     "metadata": {
      "needs_background": "light"
     },
     "output_type": "display_data"
    }
   ],
   "source": [
    "plt.plot(GOOGL_history.history['r_square'])"
   ]
  },
  {
   "cell_type": "code",
   "execution_count": 30,
   "metadata": {},
   "outputs": [],
   "source": [
    "# Convert predicted arrays to lists\n",
    "FB_predictions=FB_predictions.flatten()\n",
    "AMZN_predictions=AMZN_predictions.flatten()\n",
    "AAPL_predictions=AAPL_predictions.flatten()\n",
    "NFLX_predictions=NFLX_predictions.flatten()\n",
    "GOOGL_predictions=GOOGL_predictions.flatten()\n",
    "\n",
    "FB_predictions = pd.Series(FB_predictions)\n",
    "AMZN_predictions = pd.Series(AMZN_predictions)\n",
    "AAPL_predictions = pd.Series(AAPL_predictions)\n",
    "NFLX_predictions = pd.Series(NFLX_predictions)\n",
    "GOOGL_predictions = pd.Series(GOOGL_predictions)\n",
    "\n",
    "# Convert to list\n",
    "FB_predictions = pd.Series(FB_predictions)\n",
    "AMZN_predictions = pd.Series(AMZN_predictions)\n",
    "AAPL_predictions = pd.Series(AAPL_predictions)\n",
    "NFLX_predictions = pd.Series(NFLX_predictions)\n",
    "GOOGL_predictions = pd.Series(GOOGL_predictions)\n",
    "\n",
    "FB_y_test=pd.Series.tolist(FB_y_test)\n",
    "AMZN_y_test=pd.Series.tolist(AMZN_y_test)\n",
    "AAPL_y_test=pd.Series.tolist(AAPL_y_test)\n",
    "NFLX_y_test=pd.Series.tolist(NFLX_y_test)\n",
    "GOOGL_y_test=pd.Series.tolist(GOOGL_y_test)"
   ]
  },
  {
   "cell_type": "markdown",
   "metadata": {},
   "source": [
    "### Comparison Graphs Actual v Predicted"
   ]
  },
  {
   "cell_type": "code",
   "execution_count": 31,
   "metadata": {},
   "outputs": [
    {
     "data": {
      "image/png": "[encoded data removed]",
      "text/plain": [
       "<Figure size 432x288 with 1 Axes>"
      ]
     },
     "metadata": {
      "needs_background": "light"
     },
     "output_type": "display_data"
    },
    {
     "data": {
      "image/png": "[encoded data removed]",
      "text/plain": [
       "<Figure size 432x288 with 1 Axes>"
      ]
     },
     "metadata": {
      "needs_background": "light"
     },
     "output_type": "display_data"
    },
    {
     "data": {
      "image/png": "[encoded data removed]",
      "text/plain": [
       "<Figure size 432x288 with 1 Axes>"
      ]
     },
     "metadata": {
      "needs_background": "light"
     },
     "output_type": "display_data"
    },
    {
     "data": {
      "image/png": "[encoded data removed]",
      "text/plain": [
       "<Figure size 432x288 with 1 Axes>"
      ]
     },
     "metadata": {
      "needs_background": "light"
     },
     "output_type": "display_data"
    },
    {
     "data": {
      "image/png": "[encoded data removed]",
      "text/plain": [
       "<Figure size 432x288 with 1 Axes>"
      ]
     },
     "metadata": {
      "needs_background": "light"
     },
     "output_type": "display_data"
    }
   ],
   "source": [
    "# Plot FB actual v predicted price\n",
    "line_chart1 = plt.plot(FB_y_test)\n",
    "line_chart2 = plt.plot(FB_predictions)\n",
    "plt.title('FB ANN Prediction')\n",
    "plt.xlabel('observed')\n",
    "plt.ylabel('predicted')\n",
    "plt.show()\n",
    "\n",
    "# Plot Amazon actual v predicted price\n",
    "line_chart1 = plt.plot(AMZN_y_test)\n",
    "line_chart2 = plt.plot(AMZN_predictions)\n",
    "plt.title('Amazon ANN Prediction')\n",
    "plt.xlabel('observed')\n",
    "plt.ylabel('predicted')\n",
    "plt.show()\n",
    "\n",
    "# Plot Apple actual v predicted price\n",
    "line_chart1 = plt.plot(AAPL_y_test)\n",
    "line_chart2 = plt.plot(AAPL_predictions)\n",
    "plt.title('Apple ANN Prediction')\n",
    "plt.xlabel('observed')\n",
    "plt.ylabel('predicted')\n",
    "plt.show()\n",
    "\n",
    "# Plot Netflix actual v predicted price\n",
    "line_chart1 = plt.plot(NFLX_y_test)\n",
    "line_chart2 = plt.plot(NFLX_predictions)\n",
    "plt.title('Netflix ANN Prediction')\n",
    "plt.xlabel('observed')\n",
    "plt.ylabel('predicted')\n",
    "plt.show()\n",
    "\n",
    "# Plot Google actual v predicted price\n",
    "line_chart1 = plt.plot(GOOGL_y_test)\n",
    "line_chart2 = plt.plot(GOOGL_predictions)\n",
    "plt.title('Google ANN Prediction')\n",
    "plt.xlabel('observed')\n",
    "plt.ylabel('predicted')\n",
    "plt.show()"
   ]
  },
  {
   "cell_type": "code",
   "execution_count": 32,
   "metadata": {},
   "outputs": [
    {
     "ename": "SyntaxError",
     "evalue": "invalid syntax (<ipython-input-32-b67d92fecaf0>, line 1)",
     "output_type": "error",
     "traceback": [
      "\u001b[1;36m  File \u001b[1;32m\"<ipython-input-32-b67d92fecaf0>\"\u001b[1;36m, line \u001b[1;32m1\u001b[0m\n\u001b[1;33m    Stop Here!\u001b[0m\n\u001b[1;37m         ^\u001b[0m\n\u001b[1;31mSyntaxError\u001b[0m\u001b[1;31m:\u001b[0m invalid syntax\n"
     ]
    }
   ],
   "source": [
    "Stop Here!"
   ]
  },
  {
   "cell_type": "markdown",
   "metadata": {},
   "source": [
    "## Hardware and Software Specifications "
   ]
  },
  {
   "cell_type": "markdown",
   "metadata": {},
   "source": [
    "Processor\tIntel(R) Core(TM) i5-8265U CPU @ 1.60GHz, 1800 Mhz, 4 Core(s), 8 Logical Processor(s)"
   ]
  },
  {
   "cell_type": "markdown",
   "metadata": {},
   "source": [
    "## Summary\n",
    "On the test set evaluation the stock had the highest cross validation R-squared score was with a R-square value of 54.90. Meaning the ANN explains % of the stock price variability."
   ]
  },
  {
   "cell_type": "markdown",
   "metadata": {},
   "source": [
    "## Hyperparameter Gradient Descent Tuning"
   ]
  },
  {
   "cell_type": "code",
   "execution_count": null,
   "metadata": {},
   "outputs": [],
   "source": [
    "# Grid Search of Tuning\n",
    "# Source: https://towardsdatascience.com/ann-classification-model-evaluation-and-parameter-tuning-9174fd5ad0c2\n",
    "# https://blogs.oracle.com/meena/simple-neural-network-model-using-keras-and-grid-search-hyperparameterstuning\n",
    "np.random.seed(5002)\n",
    "\n",
    "from sklearn.model_selection import GridSearchCV\n",
    "\n",
    "def ann_grid(optimizer='adam', units = 5, kernel_initializer='normal',activation='relu'):\n",
    "    # create model\n",
    "    model = Sequential()\n",
    "    model.add(Dense(units=units, kernel_initializer=kernel_initializer, input_dim=X.shape[1], activation=activation))\n",
    "    model.add(Dropout(rate=0.1))\n",
    "    model.add(Dense(1, kernel_initializer=kernel_initializer, activation=activation))\n",
    "    # Compile model\n",
    "    model.compile(loss='mean_squared_error', optimizer=optimizer, metrics=['mean_squared_error'])\n",
    "    return model\n",
    "\n",
    "model = KerasRegressor(build_fn=ann_grid, epochs=100, batch_size=5, verbose=0)\n",
    "\n",
    "optimizer = ['SGD', 'RMSprop', 'Adagrad', 'Adadelta', 'Adam']\n",
    "units=[10, 20, 50, 100]\n",
    "kernel_initializer=['uniform','normal','zero']\n",
    "activation=['relu', 'tanh', 'linear','sigmoid']\n",
    "\n",
    "param_grid = dict(optimizer=optimizer, units=units, kernel_initializer=kernel_initializer, activation=activation)\n",
    "\n",
    "kfold = KFold(n_splits=10)\n",
    "grid = GridSearchCV(estimator=model, param_grid=param_grid, n_jobs=-1, cv=10)\n",
    "grid_result = grid.fit(X_train, y_train)\n",
    "\n",
    "# summarize results\n",
    "print(\"Best: %f using %s\" % (grid_result.best_score_, grid_result.best_params_))\n",
    "means = grid_result.cv_results_['mean_test_score']\n",
    "stds = grid_result.cv_results_['std_test_score']\n",
    "params = grid_result.cv_results_['params']\n",
    "for mean, stdev, param in zip(means, stds, params):\n",
    "    print(\"%f (%f) with: %r\" % (mean, stdev, param))"
   ]
  },
  {
   "cell_type": "code",
   "execution_count": null,
   "metadata": {},
   "outputs": [],
   "source": [
    "# 2 Layer ANN\n",
    "# Optimising Learning Rate of Optimiser\n",
    "np.random.seed(5002)\n",
    "\n",
    "from sklearn.model_selection import GridSearchCV\n",
    "from keras.optimizers import RMSprop\n",
    "\n",
    "def ann_grid(optimizer='Adam', units = 100, kernel_initializer='normal',activation='relu',lr=0.1, epsilon=0.1,rate=0.1):\n",
    "    # create model\n",
    "    model = Sequential()\n",
    "    model.add(Dense(units=units, kernel_initializer=kernel_initializer, input_dim=X.shape[1], activation=activation))\n",
    "    model.add(Dense(units=units, activation=activation)) # second layer\n",
    "    model.add(Dropout(rate=rate))\n",
    "    model.add(Dense(1, kernel_initializer=kernel_initializer, activation=activation))\n",
    "    # Compile model\n",
    "    # Optimise gradient descent\n",
    "    optimizer = RMSprop(lr=lr, epsilon=epsilon)\n",
    "    model.compile(loss='mean_squared_error', optimizer=optimizer, metrics=['mean_squared_error'])\n",
    "    return model\n",
    "\n",
    "model = KerasRegressor(build_fn=ann_grid, epochs=100, batch_size=5, verbose=0)\n",
    "\n",
    "#optimizer = ['SGD', 'RMSprop', 'Adagrad', 'Adadelta', 'Adam']\n",
    "#units=[10, 20, 50, 100]\n",
    "#kernel_initializer=['uniform','normal','zero']\n",
    "#activation=['relu', 'tanh', 'linear','sigmoid']\n",
    "\n",
    "lr=[0.0001, 0.001, 0.1,1,5]\n",
    "epsilon=[0.001, 0.1,1]\n",
    "rate=[0.1,0.2,0.5]\n",
    "optimizer = ['Adam']\n",
    "\n",
    "param_grid = dict(lr=lr, epsilon=epsilon,rate=rate,optimizer=optimizer)\n",
    "\n",
    "grid = GridSearchCV(estimator=model, param_grid=param_grid, n_jobs=-1, cv=10)\n",
    "grid_result = grid.fit(X_train, y_train)\n",
    "\n",
    "# summarize results\n",
    "print(\"Best: %f using %s\" % (grid_result.best_score_, grid_result.best_params_))\n",
    "means = grid_result.cv_results_['mean_test_score']\n",
    "stds = grid_result.cv_results_['std_test_score']\n",
    "params = grid_result.cv_results_['params']\n",
    "for mean, stdev, param in zip(means, stds, params):\n",
    "    print(\"%f (%f) with: %r\" % (mean, stdev, param))"
   ]
  },
  {
   "cell_type": "code",
   "execution_count": null,
   "metadata": {},
   "outputs": [],
   "source": [
    "# 5 Layer ANN\n",
    "# Optimising Learning Rate of Optimiser\n",
    "np.random.seed(5002)\n",
    "\n",
    "from sklearn.model_selection import GridSearchCV\n",
    "from keras.optimizers import RMSprop\n",
    "from keras import backend as K\n",
    "\n",
    "def ann_grid(optimizer='Adam', units = 100, kernel_initializer='normal',activation='relu',lr=0.1, epsilon=0.1,rate=0.1):\n",
    "    # create model\n",
    "    model = Sequential()\n",
    "    model.add(Dense(units=units, kernel_initializer=kernel_initializer, input_dim=X.shape[1], activation=activation))\n",
    "    model.add(Dropout(rate=rate))\n",
    "    model.add(Dense(units=units, activation=activation)) # second layer\n",
    "    model.add(Dropout(rate=rate))\n",
    "    model.add(Dense(units=units, activation=activation)) # third layer\n",
    "    model.add(Dropout(rate=rate))\n",
    "    model.add(Dense(units=units, activation=activation)) # fourth layer\n",
    "    model.add(Dropout(rate=rate))\n",
    "    model.add(Dense(units=units, activation=activation)) # fifth layer\n",
    "    model.add(Dropout(rate=rate))\n",
    "    model.add(Dense(1, kernel_initializer=kernel_initializer, activation=activation))\n",
    "    # Compile model\n",
    "    # Optimise gradient descent\n",
    "    optimizer = RMSprop(lr=lr, epsilon=epsilon)\n",
    "    model.compile(loss='mean_squared_error', optimizer=optimizer, metrics=['mean_squared_error'])\n",
    "    return model\n",
    "\n",
    "def r_square(y_true, y_pred):\n",
    "    from keras import backend as K\n",
    "    SS_res =  K.sum(K.square(y_true - y_pred)) \n",
    "    SS_tot = K.sum(K.square(y_true - K.mean(y_true))) \n",
    "    return (1 - SS_res/(SS_tot + K.epsilon()))\n",
    "\n",
    "model = KerasRegressor(build_fn=ann_grid, epochs=100, batch_size=5, verbose=0)\n",
    "\n",
    "optimizer = ['SGD', 'RMSprop', 'Adagrad', 'Adadelta', 'Adam']\n",
    "units=[10, 20, 50, 100]\n",
    "kernel_initializer=['uniform','normal','zero']\n",
    "activation=['relu', 'tanh', 'linear','sigmoid']\n",
    "\n",
    "param_grid = dict(optimizer=optimizer, units=units, kernel_initializer=kernel_initializer, activation=activation)\n",
    "\n",
    "grid = GridSearchCV(estimator=model, param_grid=param_grid, n_jobs=-1, cv=10)\n",
    "grid_result = grid.fit(X_train, y_train)\n",
    "\n",
    "# summarize results\n",
    "print(\"Best: %f using %s\" % (grid_result.best_score_, grid_result.best_params_))\n",
    "means = grid_result.cv_results_['mean_test_score']\n",
    "stds = grid_result.cv_results_['std_test_score']\n",
    "params = grid_result.cv_results_['params']\n",
    "for mean, stdev, param in zip(means, stds, params):\n",
    "    print(\"%f (%f) with: %r\" % (mean, stdev, param))"
   ]
  },
  {
   "cell_type": "markdown",
   "metadata": {},
   "source": [
    "### Additional Graphs"
   ]
  },
  {
   "cell_type": "code",
   "execution_count": null,
   "metadata": {},
   "outputs": [],
   "source": [
    "# Plot FB actual v predicted price\n",
    "plt.scatter(FB_y_test, FB_predictions, color='blue', label= 'data')\n",
    "plt.title('FB ANN Prediction')\n",
    "plt.legend()\n",
    "plt.xlabel('observed')\n",
    "plt.ylabel('predicted')\n",
    "plt.show()\n",
    "\n",
    "# Plot Google actual v predicted price\n",
    "plt.scatter(AMZN_y_test, AMZN_predictions, color='blue', label= 'data')\n",
    "plt.title('Amazon ANN Prediction')\n",
    "plt.legend()\n",
    "plt.xlabel('observed')\n",
    "plt.ylabel('predicted')\n",
    "plt.show()\n",
    "\n",
    "# Plot Google actual v predicted price\n",
    "plt.scatter(AAPL_y_test, AAPL_predictions, color='blue', label= 'data')\n",
    "plt.title('Apple ANN Prediction')\n",
    "plt.legend()\n",
    "plt.xlabel('observed')\n",
    "plt.ylabel('predicted')\n",
    "plt.show()\n",
    "\n",
    "# Plot Google actual v predicted price\n",
    "plt.scatter(NFLX_y_test, NFLX_predictions, color='blue', label= 'data')\n",
    "plt.title('Netflix ANN Prediction')\n",
    "plt.legend()\n",
    "plt.xlabel('observed')\n",
    "plt.ylabel('predicted')\n",
    "plt.show()\n",
    "\n",
    "# Plot Google actual v predicted price\n",
    "plt.scatter(GOOGL_y_test, GOOGL_predictions, color='blue', label= 'data')\n",
    "plt.title('Google ANN Prediction')\n",
    "plt.legend()\n",
    "plt.xlabel('observed')\n",
    "plt.ylabel('predicted')\n",
    "plt.show()"
   ]
  }
 ],
 "metadata": {
  "kernelspec": {
   "display_name": "Python 3",
   "language": "python",
   "name": "python3"
  },
  "language_info": {
   "codemirror_mode": {
    "name": "ipython",
    "version": 3
   },
   "file_extension": ".py",
   "mimetype": "text/x-python",
   "name": "python",
   "nbconvert_exporter": "python",
   "pygments_lexer": "ipython3",
   "version": "3.8.3"
  }
 },
 "nbformat": 4,
 "nbformat_minor": 4
}
